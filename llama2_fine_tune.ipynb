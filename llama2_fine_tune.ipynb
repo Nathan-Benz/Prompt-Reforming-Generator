{
  "nbformat": 4,
  "nbformat_minor": 0,
  "metadata": {
    "colab": {
      "provenance": [],
      "gpuType": "T4",
      "authorship_tag": "ABX9TyMjKduUvX5jWvLQla7QydwH",
      "include_colab_link": true
    },
    "kernelspec": {
      "name": "python3",
      "display_name": "Python 3"
    },
    "language_info": {
      "name": "python"
    },
    "accelerator": "GPU"
  },
  "cells": [
    {
      "cell_type": "markdown",
      "metadata": {
        "id": "view-in-github",
        "colab_type": "text"
      },
      "source": [
        "<a href=\"https://colab.research.google.com/github/Nathan-Benz/Prompt-Reforming-Generator/blob/main/llama2_fine_tune.ipynb\" target=\"_parent\"><img src=\"https://colab.research.google.com/assets/colab-badge.svg\" alt=\"Open In Colab\"/></a>"
      ]
    },
    {
      "cell_type": "markdown",
      "source": [
        "# Set Up"
      ],
      "metadata": {
        "id": "MX3YXqi2Anad"
      }
    },
    {
      "cell_type": "markdown",
      "source": [
        "Installing libraries"
      ],
      "metadata": {
        "id": "HYFGaDKLBFwE"
      }
    },
    {
      "cell_type": "code",
      "source": [
        "!pip install autotrain-advanced\n",
        "!pip install huggingface_hub"
      ],
      "metadata": {
        "id": "if-78oQiF4RB"
      },
      "execution_count": null,
      "outputs": []
    },
    {
      "cell_type": "code",
      "source": [
        "!autotrain setup --update-torch"
      ],
      "metadata": {
        "id": "Q51ywbJTF7Xi"
      },
      "execution_count": null,
      "outputs": []
    },
    {
      "cell_type": "markdown",
      "source": [
        "HuggingFace Login"
      ],
      "metadata": {
        "id": "wM3bJsSNBVEI"
      }
    },
    {
      "cell_type": "code",
      "source": [
        "from huggingface_hub import notebook_login\n",
        "notebook_login()"
      ],
      "metadata": {
        "id": "54bBnNBKBXpm"
      },
      "execution_count": null,
      "outputs": []
    },
    {
      "cell_type": "markdown",
      "source": [
        "# Training"
      ],
      "metadata": {
        "id": "3dKPqaXmBe1I"
      }
    },
    {
      "cell_type": "markdown",
      "source": [
        "Setting up hyperparameters"
      ],
      "metadata": {
        "id": "kSdB0saQBmSX"
      }
    },
    {
      "cell_type": "code",
      "source": [
        "!autotrain llm --train --project_name 'llama2-prompt-optimizer' \\\n",
        "--model TinyPixel/Llama-2-7B-bf16-sharded \\\n",
        "--data_path NateBenz/formatted_prompts \\\n",
        "--use_peft \\\n",
        "--use_int4 \\\n",
        "--learning_rate 2e-4 \\\n",
        "--train_batch_size 2 \\\n",
        "--num_train_epochs 10 \\\n",
        "--trainer sft \\\n",
        "--model_max_length 2048 \\\n",
        "--block_size 2048 > training.log &"
      ],
      "metadata": {
        "id": "u5uO3SuX3cKX"
      },
      "execution_count": null,
      "outputs": []
    },
    {
      "cell_type": "markdown",
      "source": [
        "# Push to Hugging Face"
      ],
      "metadata": {
        "id": "6JnnhYP860hu"
      }
    },
    {
      "cell_type": "code",
      "source": [
        "from huggingface_hub import HfApi\n",
        "\n",
        "api = HfApi()\n",
        "\n",
        "# Upload all the content from the local folder to your remote Space.\n",
        "# By default, files are uploaded at the root of the repo\n",
        "\n",
        "api.upload_folder(\n",
        "\n",
        "    folder_path=\"/content/llama2-prompt-optimizer/checkpoint-20\",\n",
        "\n",
        "    repo_id=\"NateBenz/llama2-prompt-reformatting-generator\",\n",
        "\n",
        "    repo_type=\"model\",\n",
        "\n",
        ")"
      ],
      "metadata": {
        "id": "3sWM4A3Y3agt"
      },
      "execution_count": null,
      "outputs": []
    }
  ]
}