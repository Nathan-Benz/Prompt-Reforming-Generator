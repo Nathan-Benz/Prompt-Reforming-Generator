{
  "nbformat": 4,
  "nbformat_minor": 0,
  "metadata": {
    "colab": {
      "provenance": [],
      "mount_file_id": "1MCNHT3raCHTdg3jk3cDzP_NAt2oh9xCp",
      "authorship_tag": "ABX9TyMruV6iB/ofvuigPoF712DC",
      "include_colab_link": true
    },
    "kernelspec": {
      "name": "python3",
      "display_name": "Python 3"
    },
    "language_info": {
      "name": "python"
    }
  },
  "cells": [
    {
      "cell_type": "markdown",
      "metadata": {
        "id": "view-in-github",
        "colab_type": "text"
      },
      "source": [
        "<a href=\"https://colab.research.google.com/github/Nathan-Benz/Prompt-Reforming-Generator/blob/main/llama2_model_testing.ipynb\" target=\"_parent\"><img src=\"https://colab.research.google.com/assets/colab-badge.svg\" alt=\"Open In Colab\"/></a>"
      ]
    },
    {
      "cell_type": "code",
      "execution_count": null,
      "metadata": {
        "id": "v0-M-qx0uEcF"
      },
      "outputs": [],
      "source": [
        "!pip install transformers"
      ]
    },
    {
      "cell_type": "code",
      "source": [
        "from transformers import AutoModelForCausalLM, AutoTokenizer"
      ],
      "metadata": {
        "id": "dKihPsqTx1UQ"
      },
      "execution_count": null,
      "outputs": []
    },
    {
      "cell_type": "code",
      "source": [
        "tokenizer = AutoTokenizer.from_pretrained('/content/drive/MyDrive/Colab Notebooks/LlaMA2_Prompt_Reformming_Generator/llama2-prompt-optimizer')\n",
        "model = AutoModelForCausalLM.from_pretrained('/content/drive/MyDrive/Colab Notebooks/LlaMA2_Prompt_Reformming_Generator/llama2-prompt-optimizer')"
      ],
      "metadata": {
        "id": "UPqbEkS_yBDI"
      },
      "execution_count": null,
      "outputs": []
    },
    {
      "cell_type": "code",
      "source": [
        "input_context = '''\n",
        "### Prompt:\n",
        "Help me improve my writing skills.\n",
        "\n",
        "### Assistant:\n",
        "'''"
      ],
      "metadata": {
        "id": "l956BpHWyMOu"
      },
      "execution_count": null,
      "outputs": []
    },
    {
      "cell_type": "code",
      "source": [
        "input_ids = tokenizer.encode(input_context, return_tensors='pt')\n",
        "output = model.generate(input_ids, max_length=85, temperature=0.3, num_return_sequences=1)\n",
        "\n",
        "generated_text = tokenizer.decode(output[0], skip_special_tokenz=True)"
      ],
      "metadata": {
        "id": "VsL7lv1mykJU"
      },
      "execution_count": null,
      "outputs": []
    },
    {
      "cell_type": "code",
      "source": [
        "print(generated_text)"
      ],
      "metadata": {
        "id": "IOGzJFIhy-K1"
      },
      "execution_count": null,
      "outputs": []
    }
  ]
}